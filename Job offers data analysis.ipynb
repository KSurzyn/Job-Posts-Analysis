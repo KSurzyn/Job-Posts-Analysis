{
 "cells": [
  {
   "cell_type": "markdown",
   "id": "b62107b2",
   "metadata": {},
   "source": [
    "# Exploratory data analysis (EDA)"
   ]
  },
  {
   "cell_type": "markdown",
   "id": "55f637d8",
   "metadata": {},
   "source": [
    "The purpose of this EDA is to find interesting information about job offers data and also to find out what the earnings in the USA look like. "
   ]
  },
  {
   "cell_type": "markdown",
   "id": "c3b99471",
   "metadata": {},
   "source": [
    "Importing the necessary libraries."
   ]
  },
  {
   "cell_type": "code",
   "execution_count": 1,
   "id": "a4949810",
   "metadata": {},
   "outputs": [],
   "source": [
    "import pandas as pd\n",
    "import numpy as np\n",
    "from scipy import stats\n",
    "import matplotlib.pyplot as plt\n",
    "import seaborn as sns"
   ]
  },
  {
   "cell_type": "markdown",
   "id": "51bcaf96",
   "metadata": {},
   "source": [
    "Reading data set which I previously scraped from simplyhired.com and cleaned."
   ]
  },
  {
   "cell_type": "code",
   "execution_count": 2,
   "id": "173b4300",
   "metadata": {},
   "outputs": [],
   "source": [
    "df = pd.read_excel('D:/PROJEKTY-PY/salary_prediction/data-cleaned-sh.xlsx', index_col=0)"
   ]
  },
  {
   "cell_type": "markdown",
   "id": "ad841820",
   "metadata": {},
   "source": [
    "Displaying several rows of data."
   ]
  },
  {
   "cell_type": "code",
   "execution_count": 3,
   "id": "6b29fa07",
   "metadata": {},
   "outputs": [
    {
     "data": {
      "text/html": [
       "<div>\n",
       "<style scoped>\n",
       "    .dataframe tbody tr th:only-of-type {\n",
       "        vertical-align: middle;\n",
       "    }\n",
       "\n",
       "    .dataframe tbody tr th {\n",
       "        vertical-align: top;\n",
       "    }\n",
       "\n",
       "    .dataframe thead th {\n",
       "        text-align: right;\n",
       "    }\n",
       "</style>\n",
       "<table border=\"1\" class=\"dataframe\">\n",
       "  <thead>\n",
       "    <tr style=\"text-align: right;\">\n",
       "      <th></th>\n",
       "      <th>title</th>\n",
       "      <th>min_salary</th>\n",
       "      <th>max_salary</th>\n",
       "      <th>avg_salary</th>\n",
       "      <th>remote_work</th>\n",
       "      <th>state</th>\n",
       "      <th>rating</th>\n",
       "      <th>name</th>\n",
       "      <th>city</th>\n",
       "    </tr>\n",
       "  </thead>\n",
       "  <tbody>\n",
       "    <tr>\n",
       "      <th>0</th>\n",
       "      <td>Entry Level Data Scientist</td>\n",
       "      <td>58000</td>\n",
       "      <td>74000</td>\n",
       "      <td>66000</td>\n",
       "      <td>In the office</td>\n",
       "      <td>TX</td>\n",
       "      <td>-1.0</td>\n",
       "      <td>toyota connected north america</td>\n",
       "      <td>plano</td>\n",
       "    </tr>\n",
       "    <tr>\n",
       "      <th>1</th>\n",
       "      <td>Data Scientist - Entry Level</td>\n",
       "      <td>71000</td>\n",
       "      <td>97000</td>\n",
       "      <td>84000</td>\n",
       "      <td>In the office</td>\n",
       "      <td>CA</td>\n",
       "      <td>-1.0</td>\n",
       "      <td>numerdox</td>\n",
       "      <td>sacramento</td>\n",
       "    </tr>\n",
       "    <tr>\n",
       "      <th>2</th>\n",
       "      <td>Data Scientist</td>\n",
       "      <td>110000</td>\n",
       "      <td>160000</td>\n",
       "      <td>135000</td>\n",
       "      <td>In the office</td>\n",
       "      <td>CA</td>\n",
       "      <td>3.8</td>\n",
       "      <td>pg&amp;e corporation</td>\n",
       "      <td>san francisco</td>\n",
       "    </tr>\n",
       "    <tr>\n",
       "      <th>3</th>\n",
       "      <td>Data Scientist, Analytics (University Grad)</td>\n",
       "      <td>45000</td>\n",
       "      <td>57000</td>\n",
       "      <td>51000</td>\n",
       "      <td>In the office</td>\n",
       "      <td>CA</td>\n",
       "      <td>4.1</td>\n",
       "      <td>facebook</td>\n",
       "      <td>menlo park</td>\n",
       "    </tr>\n",
       "    <tr>\n",
       "      <th>4</th>\n",
       "      <td>Data Scientist - REMOTE</td>\n",
       "      <td>84000</td>\n",
       "      <td>120000</td>\n",
       "      <td>102000</td>\n",
       "      <td>In the office</td>\n",
       "      <td>IA</td>\n",
       "      <td>4.0</td>\n",
       "      <td>john deere</td>\n",
       "      <td>johnston</td>\n",
       "    </tr>\n",
       "  </tbody>\n",
       "</table>\n",
       "</div>"
      ],
      "text/plain": [
       "                                         title  min_salary  max_salary  \\\n",
       "0                   Entry Level Data Scientist       58000       74000   \n",
       "1                 Data Scientist - Entry Level       71000       97000   \n",
       "2                               Data Scientist      110000      160000   \n",
       "3  Data Scientist, Analytics (University Grad)       45000       57000   \n",
       "4                      Data Scientist - REMOTE       84000      120000   \n",
       "\n",
       "   avg_salary    remote_work state  rating                             name  \\\n",
       "0       66000  In the office    TX    -1.0  toyota connected north america    \n",
       "1       84000  In the office    CA    -1.0                        numerdox    \n",
       "2      135000  In the office    CA     3.8                pg&e corporation    \n",
       "3       51000  In the office    CA     4.1                        facebook    \n",
       "4      102000  In the office    IA     4.0                      john deere    \n",
       "\n",
       "             city  \n",
       "0           plano  \n",
       "1      sacramento  \n",
       "2   san francisco  \n",
       "3      menlo park  \n",
       "4        johnston  "
      ]
     },
     "execution_count": 3,
     "metadata": {},
     "output_type": "execute_result"
    }
   ],
   "source": [
    "df.head()"
   ]
  },
  {
   "cell_type": "markdown",
   "id": "243596f2",
   "metadata": {},
   "source": [
    "This dataset contains 9 columns, 830 rows. There is four columns contains numerical values - min_salary, max_salary, avg_salary and rating. Each job description has a minimum and maximum payment amount. I used this values to creat average salary column (avg_salary). A rating is simply a company review available on a website. Not all companies are rated. I marked the lack of evaluation as '-1'. In other columns we have information about job title, company name, city and state where company is located and also it is remote offer or not.   "
   ]
  },
  {
   "cell_type": "markdown",
   "id": "6a862c48",
   "metadata": {},
   "source": [
    "### Average salary by state"
   ]
  },
  {
   "cell_type": "code",
   "execution_count": 4,
   "id": "f4f9ec6b",
   "metadata": {
    "scrolled": false
   },
   "outputs": [
    {
     "name": "stdout",
     "output_type": "stream",
     "text": [
      "The most paid jobs are in CA average salary: 117301.82926829268\n",
      "The worst paid jobs are in MT average salary: 64000.0\n"
     ]
    },
    {
     "data": {
      "image/png": "[encoded data removed]",
      "text/plain": [
       "<Figure size 1152x432 with 1 Axes>"
      ]
     },
     "metadata": {
      "needs_background": "light"
     },
     "output_type": "display_data"
    }
   ],
   "source": [
    "blank_remove_st = df[df['state']!='blank']\n",
    "grouped_sal_st = blank_remove_st.groupby('state')['avg_salary'].mean().sort_values(ascending=False)\n",
    "print(\"The most paid jobs are in\", grouped_sal_st.index[0], \"average salary:\", grouped_sal_st[0])\n",
    "print(\"The worst paid jobs are in\", grouped_sal_st.index[-1], \"average salary:\", grouped_sal_st[-1])\n",
    "plt.figure(figsize=(16, 6))\n",
    "plt.title('Average salary by state')\n",
    "chart = sns.barplot(x=grouped_sal_st.index, y=grouped_sal_st)"
   ]
  },
  {
   "cell_type": "markdown",
   "id": "7cb44bac",
   "metadata": {},
   "source": [
    "### Percentage distribution of stationary and remote job offers\n"
   ]
  },
  {
   "cell_type": "code",
   "execution_count": 5,
   "id": "bee70685",
   "metadata": {},
   "outputs": [
    {
     "data": {
      "image/png": "[encoded data removed]",
      "text/plain": [
       "<Figure size 504x504 with 1 Axes>"
      ]
     },
     "metadata": {},
     "output_type": "display_data"
    }
   ],
   "source": [
    "chart = df.groupby('remote_work').size().plot(kind='pie', autopct='%.2f', textprops={'fontsize': 15},\n",
    "                                  colors=['lightgreen', 'skyblue'], ylabel='')\n",
    "fig = plt.gcf()\n",
    "plt.title('Stationary and remote job offers %')\n",
    "fig.set_size_inches(7,7)"
   ]
  },
  {
   "cell_type": "markdown",
   "id": "73348a4a",
   "metadata": {},
   "source": [
    "### Comparison of average salary in remote and stationary work. "
   ]
  },
  {
   "cell_type": "code",
   "execution_count": 27,
   "id": "cdeee313",
   "metadata": {},
   "outputs": [
    {
     "name": "stdout",
     "output_type": "stream",
     "text": [
      "In the office: 105946.15384615384\n",
      "Remote: 105876.96335078534\n"
     ]
    },
    {
     "data": {
      "image/png": "[encoded data removed]",
      "text/plain": [
       "<Figure size 432x288 with 1 Axes>"
      ]
     },
     "metadata": {
      "needs_background": "light"
     },
     "output_type": "display_data"
    }
   ],
   "source": [
    "grouped_sal_rem = df.groupby('remote_work')['avg_salary'].mean().sort_values(ascending=False)\n",
    "chart = sns.barplot(x=grouped_sal_rem.index, y=grouped_sal_rem).set_title('Average salary in remote and stationary work')\n",
    "print('In the office:', grouped_sal_rem[0])\n",
    "print('Remote:', grouped_sal_rem[1])"
   ]
  },
  {
   "cell_type": "markdown",
   "id": "a56f658b",
   "metadata": {},
   "source": [
    "In the chart above, we can see that there is no significant difference in salary for remote and stationary work."
   ]
  },
  {
   "cell_type": "markdown",
   "id": "1651ad01",
   "metadata": {},
   "source": [
    "### Average salary histogram"
   ]
  },
  {
   "cell_type": "code",
   "execution_count": 7,
   "id": "8d23c297",
   "metadata": {
    "scrolled": true
   },
   "outputs": [
    {
     "data": {
      "image/png": "[encoded data removed]",
      "text/plain": [
       "<Figure size 432x288 with 1 Axes>"
      ]
     },
     "metadata": {
      "needs_background": "light"
     },
     "output_type": "display_data"
    }
   ],
   "source": [
    "df.avg_salary.hist()\n",
    "plt.title('Average salary distribution')\n",
    "plt.xlabel('Salary')\n",
    "plt.tight_layout()\n",
    "# test normalnosci rozkladu dorobic"
   ]
  },
  {
   "cell_type": "markdown",
   "id": "6024b8ed",
   "metadata": {},
   "source": [
    "We can see that salary is close to normal distribution."
   ]
  },
  {
   "cell_type": "markdown",
   "id": "5db1b5f5",
   "metadata": {},
   "source": [
    "### Company ratings histogram"
   ]
  },
  {
   "cell_type": "code",
   "execution_count": 8,
   "id": "ce1c05ee",
   "metadata": {},
   "outputs": [
    {
     "name": "stdout",
     "output_type": "stream",
     "text": [
      "The number that appears the most: \n",
      " ModeResult(mode=array([4.0999999]), count=array([81]))\n"
     ]
    },
    {
     "data": {
      "image/png": "[encoded data removed]",
      "text/plain": [
       "<Figure size 432x288 with 1 Axes>"
      ]
     },
     "metadata": {
      "needs_background": "light"
     },
     "output_type": "display_data"
    }
   ],
   "source": [
    "rat = df['rating'][df['rating']!=-1]\n",
    "rat.hist()\n",
    "print('The number that appears the most:','\\n',stats.mode(rat))\n",
    "plt.xlabel('Rating')\n",
    "plt.title('Company rating distribution')\n",
    "plt.tight_layout()"
   ]
  },
  {
   "cell_type": "markdown",
   "id": "e157413c",
   "metadata": {},
   "source": [
    "With this information we can see that the ratings are skewed left. The most common rating is 4.09 and it occurs in data set 81 times. "
   ]
  },
  {
   "cell_type": "markdown",
   "id": "8d993f4b",
   "metadata": {},
   "source": [
    "### Average salary boxplot"
   ]
  },
  {
   "cell_type": "code",
   "execution_count": 9,
   "id": "01f4bf3c",
   "metadata": {},
   "outputs": [
    {
     "data": {
      "image/png": "[encoded data removed]",
      "text/plain": [
       "<Figure size 432x288 with 1 Axes>"
      ]
     },
     "metadata": {
      "needs_background": "light"
     },
     "output_type": "display_data"
    }
   ],
   "source": [
    "df.boxplot(column = ['avg_salary']).set(xticklabels=[])\n",
    "plt.ylabel('Salary')\n",
    "plt.title('Average salary')\n",
    "plt.tight_layout()"
   ]
  },
  {
   "cell_type": "markdown",
   "id": "65744388",
   "metadata": {},
   "source": [
    "This boxplot shows that the middle value of the dataset is around 105000. We have a few outliers at the top in range 160000-200000 and at the bottom around 40000."
   ]
  },
  {
   "cell_type": "markdown",
   "id": "a2860a48",
   "metadata": {},
   "source": [
    "### Ratings boxplot"
   ]
  },
  {
   "cell_type": "code",
   "execution_count": 25,
   "id": "02377d8a",
   "metadata": {},
   "outputs": [
    {
     "data": {
      "image/png": "[encoded data removed]",
      "text/plain": [
       "<Figure size 432x288 with 1 Axes>"
      ]
     },
     "metadata": {
      "needs_background": "light"
     },
     "output_type": "display_data"
    }
   ],
   "source": [
    "df[df.rating != -1].boxplot(column = 'rating').set(xticklabels=[])\n",
    "plt.ylabel('Rating')\n",
    "plt.title('Rating')\n",
    "plt.tight_layout()"
   ]
  },
  {
   "cell_type": "markdown",
   "id": "f3566c8a",
   "metadata": {},
   "source": [
    "This boxplot shows that the middle value of the dataset is around 4.0. We have a lot of outliers with a low rating."
   ]
  },
  {
   "cell_type": "markdown",
   "id": "cbd0bc46",
   "metadata": {},
   "source": [
    "### Average salary with different company ratings"
   ]
  },
  {
   "cell_type": "code",
   "execution_count": 11,
   "id": "dbe71c70",
   "metadata": {},
   "outputs": [
    {
     "data": {
      "image/png": "[encoded data removed]",
      "text/plain": [
       "<Figure size 504x432 with 1 Axes>"
      ]
     },
     "metadata": {
      "needs_background": "light"
     },
     "output_type": "display_data"
    }
   ],
   "source": [
    "rat = df['rating'][df['rating']!=-1]\n",
    "group_names = ['Bad', 'Poor', 'OK','Good','Very good','Excellent ']\n",
    "start = rat.min()\n",
    "stop =rat.max()\n",
    "bins = np.linspace(start, stop, num=7)\n",
    "df['company_rating'] = pd.cut(rat, bins, labels=group_names)\n",
    "ndf=df.groupby('company_rating', as_index=False)['avg_salary'].mean()\n",
    "plt.figure(figsize=(7, 6))\n",
    "plt.title('Average salary with different company ratings')\n",
    "chart = sns.barplot(x=ndf['company_rating'], y=ndf['avg_salary'])"
   ]
  },
  {
   "cell_type": "markdown",
   "id": "26d0e96a",
   "metadata": {},
   "source": [
    "### Salary and rating coleration - Heatmap"
   ]
  },
  {
   "cell_type": "code",
   "execution_count": 12,
   "id": "393fabc1",
   "metadata": {},
   "outputs": [
    {
     "data": {
      "text/html": [
       "<div>\n",
       "<style scoped>\n",
       "    .dataframe tbody tr th:only-of-type {\n",
       "        vertical-align: middle;\n",
       "    }\n",
       "\n",
       "    .dataframe tbody tr th {\n",
       "        vertical-align: top;\n",
       "    }\n",
       "\n",
       "    .dataframe thead th {\n",
       "        text-align: right;\n",
       "    }\n",
       "</style>\n",
       "<table border=\"1\" class=\"dataframe\">\n",
       "  <thead>\n",
       "    <tr style=\"text-align: right;\">\n",
       "      <th></th>\n",
       "      <th>avg_salary</th>\n",
       "      <th>rating</th>\n",
       "    </tr>\n",
       "  </thead>\n",
       "  <tbody>\n",
       "    <tr>\n",
       "      <th>avg_salary</th>\n",
       "      <td>1.000000</td>\n",
       "      <td>0.044738</td>\n",
       "    </tr>\n",
       "    <tr>\n",
       "      <th>rating</th>\n",
       "      <td>0.044738</td>\n",
       "      <td>1.000000</td>\n",
       "    </tr>\n",
       "  </tbody>\n",
       "</table>\n",
       "</div>"
      ],
      "text/plain": [
       "            avg_salary    rating\n",
       "avg_salary    1.000000  0.044738\n",
       "rating        0.044738  1.000000"
      ]
     },
     "execution_count": 12,
     "metadata": {},
     "output_type": "execute_result"
    }
   ],
   "source": [
    "df[['avg_salary', 'rating']].corr()"
   ]
  },
  {
   "cell_type": "code",
   "execution_count": 13,
   "id": "8ccf916e",
   "metadata": {},
   "outputs": [
    {
     "data": {
      "image/png": "[encoded data removed]",
      "text/plain": [
       "<Figure size 432x288 with 2 Axes>"
      ]
     },
     "metadata": {
      "needs_background": "light"
     },
     "output_type": "display_data"
    }
   ],
   "source": [
    "pl = sns.heatmap(df[['avg_salary', 'rating']].corr())\n",
    "pl.set_title('Salary and rating coleration')\n",
    "plt.tight_layout()"
   ]
  },
  {
   "cell_type": "markdown",
   "id": "047b2416",
   "metadata": {},
   "source": [
    "Analyzing barplot and heatmap we can see that the values are not related to each other and cannot be used for further analysis using machine learning to predict salary based on ratings."
   ]
  },
  {
   "cell_type": "markdown",
   "id": "90595c30",
   "metadata": {},
   "source": [
    "### Number of job offers in top 20 cities "
   ]
  },
  {
   "cell_type": "code",
   "execution_count": 20,
   "id": "3d151c98",
   "metadata": {},
   "outputs": [
    {
     "data": {
      "image/png": "[encoded data removed]",
      "text/plain": [
       "<Figure size 432x288 with 1 Axes>"
      ]
     },
     "metadata": {
      "needs_background": "light"
     },
     "output_type": "display_data"
    }
   ],
   "source": [
    "blank_remove_ci = df[df['city']!='blank']\n",
    "jobs = blank_remove_ci['city'].value_counts()[:20]\n",
    "chart = sns.barplot(x=jobs.index, y=jobs)\n",
    "chart.set_xticklabels(chart.get_xticklabels(), rotation=90)\n",
    "plt.title('Number of job offers in top 20 cities')\n",
    "plt.xlabel('city')\n",
    "plt.ylabel('job offers')\n",
    "plt.show()"
   ]
  },
  {
   "cell_type": "markdown",
   "id": "03d2a2cf",
   "metadata": {},
   "source": [
    "On the basis of the chart, it can be seen that in New york we have the most job offers in the field of data science."
   ]
  },
  {
   "cell_type": "markdown",
   "id": "1aa77d50",
   "metadata": {},
   "source": [
    "### Number of job offers in top 20 states"
   ]
  },
  {
   "cell_type": "code",
   "execution_count": 15,
   "id": "7c33dc09",
   "metadata": {},
   "outputs": [
    {
     "data": {
      "image/png": "[encoded data removed]",
      "text/plain": [
       "<Figure size 432x288 with 1 Axes>"
      ]
     },
     "metadata": {
      "needs_background": "light"
     },
     "output_type": "display_data"
    }
   ],
   "source": [
    "blank_remove_st = df[df['state']!='blank']\n",
    "jobs = blank_remove_st['state'].value_counts()[:20]\n",
    "chart = sns.barplot(x=jobs.index, y=jobs)\n",
    "chart.set_xticklabels(chart.get_xticklabels(), rotation=90)\n",
    "plt.title('Number of job offers in top 20 states')\n",
    "plt.xlabel('state')\n",
    "plt.ylabel('job offers')\n",
    "plt.show()"
   ]
  },
  {
   "cell_type": "markdown",
   "id": "1b12dfff",
   "metadata": {},
   "source": [
    "On the basis of the chart, it can be seen that in the state of California we have the most job offers in the field of data science."
   ]
  },
  {
   "cell_type": "markdown",
   "id": "f6988781",
   "metadata": {},
   "source": [
    "### Average salary in a given state top 10"
   ]
  },
  {
   "cell_type": "code",
   "execution_count": 16,
   "id": "2bf695e0",
   "metadata": {
    "scrolled": true
   },
   "outputs": [
    {
     "data": {
      "text/html": [
       "<div>\n",
       "<style scoped>\n",
       "    .dataframe tbody tr th:only-of-type {\n",
       "        vertical-align: middle;\n",
       "    }\n",
       "\n",
       "    .dataframe tbody tr th {\n",
       "        vertical-align: top;\n",
       "    }\n",
       "\n",
       "    .dataframe thead th {\n",
       "        text-align: right;\n",
       "    }\n",
       "</style>\n",
       "<table border=\"1\" class=\"dataframe\">\n",
       "  <thead>\n",
       "    <tr style=\"text-align: right;\">\n",
       "      <th></th>\n",
       "      <th>avg_salary</th>\n",
       "    </tr>\n",
       "    <tr>\n",
       "      <th>state</th>\n",
       "      <th></th>\n",
       "    </tr>\n",
       "  </thead>\n",
       "  <tbody>\n",
       "    <tr>\n",
       "      <th>CA</th>\n",
       "      <td>117301.829268</td>\n",
       "    </tr>\n",
       "    <tr>\n",
       "      <th>VA</th>\n",
       "      <td>110462.962963</td>\n",
       "    </tr>\n",
       "    <tr>\n",
       "      <th>NY</th>\n",
       "      <td>110274.647887</td>\n",
       "    </tr>\n",
       "    <tr>\n",
       "      <th>CT</th>\n",
       "      <td>109500.000000</td>\n",
       "    </tr>\n",
       "    <tr>\n",
       "      <th>NJ</th>\n",
       "      <td>109454.545455</td>\n",
       "    </tr>\n",
       "    <tr>\n",
       "      <th>KS</th>\n",
       "      <td>108750.000000</td>\n",
       "    </tr>\n",
       "    <tr>\n",
       "      <th>OR</th>\n",
       "      <td>108450.000000</td>\n",
       "    </tr>\n",
       "    <tr>\n",
       "      <th>TN</th>\n",
       "      <td>108333.333333</td>\n",
       "    </tr>\n",
       "    <tr>\n",
       "      <th>DC</th>\n",
       "      <td>107055.555556</td>\n",
       "    </tr>\n",
       "    <tr>\n",
       "      <th>PA</th>\n",
       "      <td>106833.333333</td>\n",
       "    </tr>\n",
       "  </tbody>\n",
       "</table>\n",
       "</div>"
      ],
      "text/plain": [
       "          avg_salary\n",
       "state               \n",
       "CA     117301.829268\n",
       "VA     110462.962963\n",
       "NY     110274.647887\n",
       "CT     109500.000000\n",
       "NJ     109454.545455\n",
       "KS     108750.000000\n",
       "OR     108450.000000\n",
       "TN     108333.333333\n",
       "DC     107055.555556\n",
       "PA     106833.333333"
      ]
     },
     "execution_count": 16,
     "metadata": {},
     "output_type": "execute_result"
    }
   ],
   "source": [
    "pd.pivot_table(blank_remove_st, index = 'state', values = 'avg_salary').sort_values('avg_salary', ascending = False)[:10] # top 10 i top -10"
   ]
  },
  {
   "cell_type": "markdown",
   "id": "dd09deb7",
   "metadata": {},
   "source": [
    "The highest earnings are in the state of California where the highest number of job offers was also noticed. "
   ]
  },
  {
   "cell_type": "markdown",
   "id": "393fc666",
   "metadata": {},
   "source": [
    "### Average salary in a given state - 10 from the end"
   ]
  },
  {
   "cell_type": "code",
   "execution_count": 17,
   "id": "64697711",
   "metadata": {},
   "outputs": [
    {
     "data": {
      "text/html": [
       "<div>\n",
       "<style scoped>\n",
       "    .dataframe tbody tr th:only-of-type {\n",
       "        vertical-align: middle;\n",
       "    }\n",
       "\n",
       "    .dataframe tbody tr th {\n",
       "        vertical-align: top;\n",
       "    }\n",
       "\n",
       "    .dataframe thead th {\n",
       "        text-align: right;\n",
       "    }\n",
       "</style>\n",
       "<table border=\"1\" class=\"dataframe\">\n",
       "  <thead>\n",
       "    <tr style=\"text-align: right;\">\n",
       "      <th></th>\n",
       "      <th>avg_salary</th>\n",
       "    </tr>\n",
       "    <tr>\n",
       "      <th>state</th>\n",
       "      <th></th>\n",
       "    </tr>\n",
       "  </thead>\n",
       "  <tbody>\n",
       "    <tr>\n",
       "      <th>RI</th>\n",
       "      <td>84500.000000</td>\n",
       "    </tr>\n",
       "    <tr>\n",
       "      <th>WI</th>\n",
       "      <td>83714.285714</td>\n",
       "    </tr>\n",
       "    <tr>\n",
       "      <th>WY</th>\n",
       "      <td>83000.000000</td>\n",
       "    </tr>\n",
       "    <tr>\n",
       "      <th>LL</th>\n",
       "      <td>81000.000000</td>\n",
       "    </tr>\n",
       "    <tr>\n",
       "      <th>SD</th>\n",
       "      <td>78000.000000</td>\n",
       "    </tr>\n",
       "    <tr>\n",
       "      <th>ID</th>\n",
       "      <td>74500.000000</td>\n",
       "    </tr>\n",
       "    <tr>\n",
       "      <th>NM</th>\n",
       "      <td>73500.000000</td>\n",
       "    </tr>\n",
       "    <tr>\n",
       "      <th>NE</th>\n",
       "      <td>69000.000000</td>\n",
       "    </tr>\n",
       "    <tr>\n",
       "      <th>SC</th>\n",
       "      <td>68500.000000</td>\n",
       "    </tr>\n",
       "    <tr>\n",
       "      <th>MT</th>\n",
       "      <td>64000.000000</td>\n",
       "    </tr>\n",
       "  </tbody>\n",
       "</table>\n",
       "</div>"
      ],
      "text/plain": [
       "         avg_salary\n",
       "state              \n",
       "RI     84500.000000\n",
       "WI     83714.285714\n",
       "WY     83000.000000\n",
       "LL     81000.000000\n",
       "SD     78000.000000\n",
       "ID     74500.000000\n",
       "NM     73500.000000\n",
       "NE     69000.000000\n",
       "SC     68500.000000\n",
       "MT     64000.000000"
      ]
     },
     "execution_count": 17,
     "metadata": {},
     "output_type": "execute_result"
    }
   ],
   "source": [
    "pd.pivot_table(blank_remove_st, index = 'state', values = 'avg_salary').sort_values('avg_salary', ascending = False)[-10:]"
   ]
  },
  {
   "cell_type": "markdown",
   "id": "7670bb5a",
   "metadata": {},
   "source": [
    "The lowest earnings are in the state of Montana where number of job offers was very low."
   ]
  },
  {
   "cell_type": "markdown",
   "id": "0e46fb40",
   "metadata": {},
   "source": [
    "### The percentage breakdown of salary into small, medium and large groups"
   ]
  },
  {
   "cell_type": "code",
   "execution_count": 18,
   "id": "93ee80a7",
   "metadata": {},
   "outputs": [],
   "source": [
    "group_names = ['Low', 'Mid', 'High']\n",
    "start = df['avg_salary'].min()\n",
    "stop = df['avg_salary'].max()\n",
    "bins = np.linspace(start, stop, num=4)\n",
    "df['salary_group'] = pd.cut(df.avg_salary, bins, labels=group_names)"
   ]
  },
  {
   "cell_type": "code",
   "execution_count": 26,
   "id": "97f09acb",
   "metadata": {},
   "outputs": [
    {
     "data": {
      "image/png": "[encoded data removed]",
      "text/plain": [
       "<Figure size 432x432 with 1 Axes>"
      ]
     },
     "metadata": {},
     "output_type": "display_data"
    }
   ],
   "source": [
    "df['salary_group'].value_counts().plot(kind='pie', autopct='%.2f', textprops={'fontsize': 15},\n",
    "                                  colors=['#2AAAE3', '#7AB3EF', '#BEDAF7'])\n",
    "plt.title('Small, medium and large salary groups %')\n",
    "plt.ylabel('')\n",
    "plt.tight_layout()\n",
    "fig = plt.gcf()\n",
    "fig.set_size_inches(6,6)"
   ]
  },
  {
   "cell_type": "markdown",
   "id": "b8d184bc",
   "metadata": {},
   "source": [
    "The vast majority are in the middle salary range and only a small percentage earn the most. "
   ]
  },
  {
   "cell_type": "markdown",
   "id": "d0e24f6a",
   "metadata": {},
   "source": [
    "### Conclusion:\n",
    "- In the state of California we have the most offers. The most numbers of offers has also city - New York. This may be due to some extent to the fact that the maintenance costs in these places are very high.\n",
    "- If we are looking for a job, we should not expect that the company's rating will have an impact on salary. \n",
    "- If we are wondering how much we will earn, it is most likely that we will be in the group of people with average earnings.\n",
    "- If you prefer remote work, you don't have to worry that it will be less paid than working in the office. "
   ]
  }
 ],
 "metadata": {
  "kernelspec": {
   "display_name": "Python 3",
   "language": "python",
   "name": "python3"
  },
  "language_info": {
   "codemirror_mode": {
    "name": "ipython",
    "version": 3
   },
   "file_extension": ".py",
   "mimetype": "text/x-python",
   "name": "python",
   "nbconvert_exporter": "python",
   "pygments_lexer": "ipython3",
   "version": "3.8.8"
  }
 },
 "nbformat": 4,
 "nbformat_minor": 5
}
